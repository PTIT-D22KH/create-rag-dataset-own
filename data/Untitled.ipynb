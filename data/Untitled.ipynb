{
 "cells": [
  {
   "cell_type": "code",
   "execution_count": 14,
   "id": "0d357573-8830-4467-bcab-7e6e618bafcc",
   "metadata": {},
   "outputs": [],
   "source": [
    "import requests\n",
    "from bs4 import BeautifulSoup\n",
    "import csv\n"
   ]
  },
  {
   "cell_type": "code",
   "execution_count": 15,
   "id": "af2c27a8-870a-4132-958a-be7ff45ccb39",
   "metadata": {},
   "outputs": [],
   "source": [
    "# Step 1: Fetch the webpage content\n",
    "url = \"https://www.fmscout.com/a-guide-to-player-roles-in-football-manager.html\"\n",
    "response = requests.get(url)\n",
    "# Check if the request was successful\n",
    "if response.status_code != 200:\n",
    "    print(f\"Failed to retrieve the webpage. Status code: {response.status_code}\")\n",
    "    exit()"
   ]
  },
  {
   "cell_type": "code",
   "execution_count": 49,
   "id": "52585854-83d0-43cd-b85b-a5d702f5303f",
   "metadata": {},
   "outputs": [],
   "source": [
    "# print(response.content)\n"
   ]
  },
  {
   "cell_type": "code",
   "execution_count": 17,
   "id": "6cfdf34a-25b1-44fe-bf69-3afe13cd6665",
   "metadata": {},
   "outputs": [],
   "source": [
    "soup = BeautifulSoup(response.content, 'html.parser')"
   ]
  },
  {
   "cell_type": "code",
   "execution_count": 19,
   "id": "ab4ecd01-9e03-449f-9751-1f8cc871693f",
   "metadata": {},
   "outputs": [
    {
     "name": "stdout",
     "output_type": "stream",
     "text": [
      "How do Roles Appear\n",
      "Goalkeeper Roles\n",
      "Defending Roles\n",
      "Midfield Roles\n",
      "Flank Roles\n",
      "Central Attack Roles\n",
      "Where to go From Here?\n"
     ]
    }
   ],
   "source": [
    "for h3 in soup.find_all('h3'):\n",
    "    print(h3.get_text(strip = True))"
   ]
  },
  {
   "cell_type": "code",
   "execution_count": 50,
   "id": "71eb92f3-39fa-43ae-a2be-12986b8e8cb1",
   "metadata": {},
   "outputs": [
    {
     "name": "stdout",
     "output_type": "stream",
     "text": [
      "Most Popular\n"
     ]
    }
   ],
   "source": [
    "for h5 in soup.find_all('h5'):\n",
    "    print(h5.get_text(strip = True))\n",
    "    description = \"\"\n",
    "    p = h5.find_next_sibling('p')\n",
    "    if p:\n",
    "        description = p.get_text(strip=True)\n",
    "    # print(description)"
   ]
  },
  {
   "cell_type": "code",
   "execution_count": 51,
   "id": "ea587a50-3eb8-430f-a624-8a94c69d9003",
   "metadata": {},
   "outputs": [],
   "source": [
    "roles = {}\n",
    "current_role = None\n",
    "\n",
    "for tag in soup.find_all(['h5', 'blockquote', 'li']):\n",
    "    if tag.name == 'h5':\n",
    "        current_role = tag.text\n",
    "        roles[current_role] = {'Definition': '', 'Roles': []}\n",
    "    elif tag.name == 'blockquote' and current_role:\n",
    "        roles[current_role]['Definition'] = tag.text.strip()\n",
    "    elif tag.name == 'li' and current_role:\n",
    "        roles[current_role]['Roles'].append(tag.text.strip())\n",
    "\n",
    "# # Print the extracted roles and descriptions\n",
    "# for role, details in roles.items():\n",
    "#     print(f\"Role: {role}\")\n",
    "#     print(f\"Definition: {details['Definition']}\")\n",
    "#     print(\"Roles:\")\n",
    "#     for r in details['Roles']:\n",
    "#         print(f\" - {r}\")\n",
    "#     print()"
   ]
  },
  {
   "cell_type": "code",
   "execution_count": 47,
   "id": "eb76d1d6-6a7b-4525-a14f-505f6f48ab8e",
   "metadata": {},
   "outputs": [],
   "source": [
    "roles = {}\n",
    "current_role = None\n",
    "\n",
    "for tag in soup.find_all(['h5', 'blockquote', 'li']):\n",
    "    if tag.name == 'h5':\n",
    "        current_role = tag.text\n",
    "        roles[current_role] = {'Definition': '', 'Roles': []}\n",
    "    elif tag.name == 'blockquote' and current_role:\n",
    "        roles[current_role]['Definition'] = tag.text.strip()\n",
    "    elif tag.name == 'li' and current_role:\n",
    "        if '–' in tag.text:\n",
    "            duty, description = tag.text.split('–', 1)\n",
    "            roles[current_role]['Roles'].append({'Duty': duty.strip(), 'Description': description.strip()})\n",
    "        else:\n",
    "            roles[current_role]['Roles'].append({'Duty': tag.text.strip(), 'Description': ''})\n",
    "\n",
    "# # Print the extracted roles and descriptions\n",
    "# for role, details in roles.items():\n",
    "#     print(f\"Role: {role}\")\n",
    "#     print(f\"Definition: {details['Definition']}\")\n",
    "#     print(\"Roles:\")\n",
    "#     for r in details['Roles']:\n",
    "#         print(f\" - Duty: {r['Duty']}\")\n",
    "#         print(f\"   Description: {r['Description']}\")\n",
    "#     print()"
   ]
  },
  {
   "cell_type": "code",
   "execution_count": 23,
   "id": "af2f1060-4cea-41ad-8587-418586e8d8f0",
   "metadata": {},
   "outputs": [],
   "source": [
    "import pandas as pd\n"
   ]
  },
  {
   "cell_type": "code",
   "execution_count": 24,
   "id": "4e0180f6-7f6a-4cb4-857d-29e1929a125c",
   "metadata": {},
   "outputs": [
    {
     "data": {
      "text/html": [
       "<div>\n",
       "<style scoped>\n",
       "    .dataframe tbody tr th:only-of-type {\n",
       "        vertical-align: middle;\n",
       "    }\n",
       "\n",
       "    .dataframe tbody tr th {\n",
       "        vertical-align: top;\n",
       "    }\n",
       "\n",
       "    .dataframe thead th {\n",
       "        text-align: right;\n",
       "    }\n",
       "</style>\n",
       "<table border=\"1\" class=\"dataframe\">\n",
       "  <thead>\n",
       "    <tr style=\"text-align: right;\">\n",
       "      <th></th>\n",
       "      <th>Role</th>\n",
       "      <th>Definition</th>\n",
       "      <th>Duty</th>\n",
       "      <th>Description</th>\n",
       "    </tr>\n",
       "  </thead>\n",
       "  <tbody>\n",
       "    <tr>\n",
       "      <th>0</th>\n",
       "      <td>Goalkeeper</td>\n",
       "      <td>The Goalkeeper role is having your keeper’s ma...</td>\n",
       "      <td>Defend</td>\n",
       "      <td>There is only one role and that is to stop goa...</td>\n",
       "    </tr>\n",
       "    <tr>\n",
       "      <th>1</th>\n",
       "      <td>Sweeper Keeper</td>\n",
       "      <td>This Goalkeeping role is a mixture between bei...</td>\n",
       "      <td>Defend</td>\n",
       "      <td>The keeper will play a lot more cautiously but...</td>\n",
       "    </tr>\n",
       "    <tr>\n",
       "      <th>2</th>\n",
       "      <td>Sweeper Keeper</td>\n",
       "      <td>This Goalkeeping role is a mixture between bei...</td>\n",
       "      <td>Support</td>\n",
       "      <td>The keeper will stray just outside their penal...</td>\n",
       "    </tr>\n",
       "    <tr>\n",
       "      <th>3</th>\n",
       "      <td>Sweeper Keeper</td>\n",
       "      <td>This Goalkeeping role is a mixture between bei...</td>\n",
       "      <td>Attack</td>\n",
       "      <td>A very “brave” keeper who will travel far outs...</td>\n",
       "    </tr>\n",
       "    <tr>\n",
       "      <th>4</th>\n",
       "      <td>Wide Centre-Back</td>\n",
       "      <td>The main job of this role is to stop the oppos...</td>\n",
       "      <td>Defend</td>\n",
       "      <td>The player is more like a traditional centre-b...</td>\n",
       "    </tr>\n",
       "  </tbody>\n",
       "</table>\n",
       "</div>"
      ],
      "text/plain": [
       "               Role                                         Definition  \\\n",
       "0        Goalkeeper  The Goalkeeper role is having your keeper’s ma...   \n",
       "1    Sweeper Keeper  This Goalkeeping role is a mixture between bei...   \n",
       "2    Sweeper Keeper  This Goalkeeping role is a mixture between bei...   \n",
       "3    Sweeper Keeper  This Goalkeeping role is a mixture between bei...   \n",
       "4  Wide Centre-Back  The main job of this role is to stop the oppos...   \n",
       "\n",
       "      Duty                                        Description  \n",
       "0   Defend  There is only one role and that is to stop goa...  \n",
       "1   Defend  The keeper will play a lot more cautiously but...  \n",
       "2  Support  The keeper will stray just outside their penal...  \n",
       "3   Attack  A very “brave” keeper who will travel far outs...  \n",
       "4   Defend  The player is more like a traditional centre-b...  "
      ]
     },
     "execution_count": 24,
     "metadata": {},
     "output_type": "execute_result"
    }
   ],
   "source": [
    "csv_filename = 'roles.csv'\n",
    "df = pd.read_csv(csv_filename)\n",
    "\n",
    "# Print the head and info of the DataFrame\n",
    "df.head()"
   ]
  },
  {
   "cell_type": "code",
   "execution_count": 25,
   "id": "f080c6f7-855d-4621-816c-86a9da8415bf",
   "metadata": {},
   "outputs": [
    {
     "data": {
      "text/html": [
       "<div>\n",
       "<style scoped>\n",
       "    .dataframe tbody tr th:only-of-type {\n",
       "        vertical-align: middle;\n",
       "    }\n",
       "\n",
       "    .dataframe tbody tr th {\n",
       "        vertical-align: top;\n",
       "    }\n",
       "\n",
       "    .dataframe thead th {\n",
       "        text-align: right;\n",
       "    }\n",
       "</style>\n",
       "<table border=\"1\" class=\"dataframe\">\n",
       "  <thead>\n",
       "    <tr style=\"text-align: right;\">\n",
       "      <th></th>\n",
       "      <th>Role</th>\n",
       "      <th>Definition</th>\n",
       "      <th>Duty</th>\n",
       "      <th>Description</th>\n",
       "    </tr>\n",
       "  </thead>\n",
       "  <tbody>\n",
       "    <tr>\n",
       "      <th>1</th>\n",
       "      <td>Sweeper Keeper</td>\n",
       "      <td>This Goalkeeping role is a mixture between bei...</td>\n",
       "      <td>Defend</td>\n",
       "      <td>The keeper will play a lot more cautiously but...</td>\n",
       "    </tr>\n",
       "    <tr>\n",
       "      <th>2</th>\n",
       "      <td>Sweeper Keeper</td>\n",
       "      <td>This Goalkeeping role is a mixture between bei...</td>\n",
       "      <td>Support</td>\n",
       "      <td>The keeper will stray just outside their penal...</td>\n",
       "    </tr>\n",
       "    <tr>\n",
       "      <th>3</th>\n",
       "      <td>Sweeper Keeper</td>\n",
       "      <td>This Goalkeeping role is a mixture between bei...</td>\n",
       "      <td>Attack</td>\n",
       "      <td>A very “brave” keeper who will travel far outs...</td>\n",
       "    </tr>\n",
       "  </tbody>\n",
       "</table>\n",
       "</div>"
      ],
      "text/plain": [
       "             Role                                         Definition     Duty  \\\n",
       "1  Sweeper Keeper  This Goalkeeping role is a mixture between bei...   Defend   \n",
       "2  Sweeper Keeper  This Goalkeeping role is a mixture between bei...  Support   \n",
       "3  Sweeper Keeper  This Goalkeeping role is a mixture between bei...   Attack   \n",
       "\n",
       "                                         Description  \n",
       "1  The keeper will play a lot more cautiously but...  \n",
       "2  The keeper will stray just outside their penal...  \n",
       "3  A very “brave” keeper who will travel far outs...  "
      ]
     },
     "execution_count": 25,
     "metadata": {},
     "output_type": "execute_result"
    }
   ],
   "source": [
    "df[df['Role'] == 'Sweeper Keeper']"
   ]
  },
  {
   "cell_type": "code",
   "execution_count": 26,
   "id": "19ab0eec-cd56-4db5-b2c1-c69c53f36288",
   "metadata": {},
   "outputs": [
    {
     "name": "stdout",
     "output_type": "stream",
     "text": [
      "Data has been written to roles.csv\n"
     ]
    }
   ],
   "source": [
    "roles = {}\n",
    "current_role = None\n",
    "\n",
    "for tag in soup.find_all(['h5', 'blockquote', 'li', 'br']):\n",
    "    if tag.name == 'h5':\n",
    "        current_role = tag.text\n",
    "        roles[current_role] = {'Definition': '', 'Roles': []}\n",
    "    elif tag.name == 'blockquote' and current_role:\n",
    "        roles[current_role]['Definition'] = tag.text.strip()\n",
    "    elif tag.name == 'li' and current_role:\n",
    "        if '–' in tag.text:\n",
    "            duty, description = tag.text.split('–', 1)\n",
    "            roles[current_role]['Roles'].append({'Duty': duty.strip(), 'Description': description.strip()})\n",
    "        else:\n",
    "            roles[current_role]['Roles'].append({'Duty': tag.text.strip(), 'Description': ''})\n",
    "    elif tag.name == 'br' and current_role and tag.next_sibling and '–' in tag.next_sibling:\n",
    "        duty, description = tag.next_sibling.split('–', 1)\n",
    "        roles[current_role]['Roles'].append({'Duty': duty.strip(), 'Description': description.strip()})\n",
    "\n",
    "# Write the extracted data to a CSV file\n",
    "csv_filename = 'roles.csv'\n",
    "with open(csv_filename, 'w', newline='', encoding='utf-8') as csvfile:\n",
    "    fieldnames = ['Role', 'Definition', 'Duty', 'Description']\n",
    "    writer = csv.DictWriter(csvfile, fieldnames=fieldnames)\n",
    "\n",
    "    writer.writeheader()\n",
    "    for role, details in roles.items():\n",
    "        if not details['Roles']:\n",
    "            writer.writerow({\n",
    "                'Role': role,\n",
    "                'Definition': details['Definition'],\n",
    "                'Duty': '',\n",
    "                'Description': ''\n",
    "            })\n",
    "        else:\n",
    "            for r in details['Roles']:\n",
    "                writer.writerow({\n",
    "                    'Role': role,\n",
    "                    'Definition': details['Definition'],\n",
    "                    'Duty': r['Duty'],\n",
    "                    'Description': r['Description']\n",
    "                })\n",
    "\n",
    "print(\"Data has been written to roles.csv\")\n",
    "\n",
    "# Read the CSV file into a pandas DataFrame\n",
    "df = pd.read_csv(csv_filename)"
   ]
  },
  {
   "cell_type": "code",
   "execution_count": 27,
   "id": "286b1293-c6c3-402c-9e03-5d7255e5f0ca",
   "metadata": {},
   "outputs": [
    {
     "data": {
      "text/html": [
       "<div>\n",
       "<style scoped>\n",
       "    .dataframe tbody tr th:only-of-type {\n",
       "        vertical-align: middle;\n",
       "    }\n",
       "\n",
       "    .dataframe tbody tr th {\n",
       "        vertical-align: top;\n",
       "    }\n",
       "\n",
       "    .dataframe thead th {\n",
       "        text-align: right;\n",
       "    }\n",
       "</style>\n",
       "<table border=\"1\" class=\"dataframe\">\n",
       "  <thead>\n",
       "    <tr style=\"text-align: right;\">\n",
       "      <th></th>\n",
       "      <th>Role</th>\n",
       "      <th>Definition</th>\n",
       "      <th>Duty</th>\n",
       "      <th>Description</th>\n",
       "    </tr>\n",
       "  </thead>\n",
       "  <tbody>\n",
       "    <tr>\n",
       "      <th>0</th>\n",
       "      <td>Goalkeeper</td>\n",
       "      <td>The Goalkeeper role is having your keeper’s ma...</td>\n",
       "      <td>Defend</td>\n",
       "      <td>There is only one role and that is to stop goa...</td>\n",
       "    </tr>\n",
       "    <tr>\n",
       "      <th>1</th>\n",
       "      <td>Sweeper Keeper</td>\n",
       "      <td>This Goalkeeping role is a mixture between bei...</td>\n",
       "      <td>Defend</td>\n",
       "      <td>The keeper will play a lot more cautiously but...</td>\n",
       "    </tr>\n",
       "    <tr>\n",
       "      <th>2</th>\n",
       "      <td>Sweeper Keeper</td>\n",
       "      <td>This Goalkeeping role is a mixture between bei...</td>\n",
       "      <td>Support</td>\n",
       "      <td>The keeper will stray just outside their penal...</td>\n",
       "    </tr>\n",
       "    <tr>\n",
       "      <th>3</th>\n",
       "      <td>Sweeper Keeper</td>\n",
       "      <td>This Goalkeeping role is a mixture between bei...</td>\n",
       "      <td>Attack</td>\n",
       "      <td>A very “brave” keeper who will travel far outs...</td>\n",
       "    </tr>\n",
       "    <tr>\n",
       "      <th>4</th>\n",
       "      <td>Wide Centre-Back !NEW in FM22!</td>\n",
       "      <td>The main job of this role is to stop the oppos...</td>\n",
       "      <td>Defend - The player is more like a traditional...</td>\n",
       "      <td>NaN</td>\n",
       "    </tr>\n",
       "  </tbody>\n",
       "</table>\n",
       "</div>"
      ],
      "text/plain": [
       "                             Role  \\\n",
       "0                      Goalkeeper   \n",
       "1                  Sweeper Keeper   \n",
       "2                  Sweeper Keeper   \n",
       "3                  Sweeper Keeper   \n",
       "4  Wide Centre-Back !NEW in FM22!   \n",
       "\n",
       "                                          Definition  \\\n",
       "0  The Goalkeeper role is having your keeper’s ma...   \n",
       "1  This Goalkeeping role is a mixture between bei...   \n",
       "2  This Goalkeeping role is a mixture between bei...   \n",
       "3  This Goalkeeping role is a mixture between bei...   \n",
       "4  The main job of this role is to stop the oppos...   \n",
       "\n",
       "                                                Duty  \\\n",
       "0                                             Defend   \n",
       "1                                             Defend   \n",
       "2                                            Support   \n",
       "3                                             Attack   \n",
       "4  Defend - The player is more like a traditional...   \n",
       "\n",
       "                                         Description  \n",
       "0  There is only one role and that is to stop goa...  \n",
       "1  The keeper will play a lot more cautiously but...  \n",
       "2  The keeper will stray just outside their penal...  \n",
       "3  A very “brave” keeper who will travel far outs...  \n",
       "4                                                NaN  "
      ]
     },
     "execution_count": 27,
     "metadata": {},
     "output_type": "execute_result"
    }
   ],
   "source": [
    "df.head()"
   ]
  },
  {
   "cell_type": "code",
   "execution_count": 28,
   "id": "5bf553bd-6926-4db7-b28e-6e9e880dde2e",
   "metadata": {},
   "outputs": [
    {
     "name": "stdout",
     "output_type": "stream",
     "text": [
      "<class 'pandas.core.frame.DataFrame'>\n",
      "RangeIndex: 100 entries, 0 to 99\n",
      "Data columns (total 4 columns):\n",
      " #   Column       Non-Null Count  Dtype \n",
      "---  ------       --------------  ----- \n",
      " 0   Role         100 non-null    object\n",
      " 1   Definition   89 non-null     object\n",
      " 2   Duty         97 non-null     object\n",
      " 3   Description  85 non-null     object\n",
      "dtypes: object(4)\n",
      "memory usage: 3.2+ KB\n"
     ]
    }
   ],
   "source": [
    "df.info()"
   ]
  },
  {
   "cell_type": "code",
   "execution_count": 29,
   "id": "8906f49a-6091-4e0d-aec3-1f580fa50024",
   "metadata": {},
   "outputs": [],
   "source": [
    "df = df[~df['Definition'].isnull()]"
   ]
  },
  {
   "cell_type": "code",
   "execution_count": 30,
   "id": "c6c16012-6a49-4bae-8474-ac03fa0b61b6",
   "metadata": {
    "scrolled": true
   },
   "outputs": [
    {
     "data": {
      "text/html": [
       "<div>\n",
       "<style scoped>\n",
       "    .dataframe tbody tr th:only-of-type {\n",
       "        vertical-align: middle;\n",
       "    }\n",
       "\n",
       "    .dataframe tbody tr th {\n",
       "        vertical-align: top;\n",
       "    }\n",
       "\n",
       "    .dataframe thead th {\n",
       "        text-align: right;\n",
       "    }\n",
       "</style>\n",
       "<table border=\"1\" class=\"dataframe\">\n",
       "  <thead>\n",
       "    <tr style=\"text-align: right;\">\n",
       "      <th></th>\n",
       "      <th>Role</th>\n",
       "      <th>Definition</th>\n",
       "      <th>Duty</th>\n",
       "      <th>Description</th>\n",
       "    </tr>\n",
       "  </thead>\n",
       "  <tbody>\n",
       "    <tr>\n",
       "      <th>4</th>\n",
       "      <td>Wide Centre-Back !NEW in FM22!</td>\n",
       "      <td>The main job of this role is to stop the oppos...</td>\n",
       "      <td>Defend - The player is more like a traditional...</td>\n",
       "      <td>NaN</td>\n",
       "    </tr>\n",
       "    <tr>\n",
       "      <th>5</th>\n",
       "      <td>Wide Centre-Back !NEW in FM22!</td>\n",
       "      <td>The main job of this role is to stop the oppos...</td>\n",
       "      <td>Support - In the supportive role, the wide cen...</td>\n",
       "      <td>NaN</td>\n",
       "    </tr>\n",
       "    <tr>\n",
       "      <th>6</th>\n",
       "      <td>Wide Centre-Back !NEW in FM22!</td>\n",
       "      <td>The main job of this role is to stop the oppos...</td>\n",
       "      <td>Attack - With an attack duty, the player is wi...</td>\n",
       "      <td>NaN</td>\n",
       "    </tr>\n",
       "    <tr>\n",
       "      <th>49</th>\n",
       "      <td>Complete Wing Back</td>\n",
       "      <td>The complete wing back is competent in defensi...</td>\n",
       "      <td>Support - Mostly be a supportive role and be s...</td>\n",
       "      <td>NaN</td>\n",
       "    </tr>\n",
       "  </tbody>\n",
       "</table>\n",
       "</div>"
      ],
      "text/plain": [
       "                              Role  \\\n",
       "4   Wide Centre-Back !NEW in FM22!   \n",
       "5   Wide Centre-Back !NEW in FM22!   \n",
       "6   Wide Centre-Back !NEW in FM22!   \n",
       "49              Complete Wing Back   \n",
       "\n",
       "                                           Definition  \\\n",
       "4   The main job of this role is to stop the oppos...   \n",
       "5   The main job of this role is to stop the oppos...   \n",
       "6   The main job of this role is to stop the oppos...   \n",
       "49  The complete wing back is competent in defensi...   \n",
       "\n",
       "                                                 Duty Description  \n",
       "4   Defend - The player is more like a traditional...         NaN  \n",
       "5   Support - In the supportive role, the wide cen...         NaN  \n",
       "6   Attack - With an attack duty, the player is wi...         NaN  \n",
       "49  Support - Mostly be a supportive role and be s...         NaN  "
      ]
     },
     "execution_count": 30,
     "metadata": {},
     "output_type": "execute_result"
    }
   ],
   "source": [
    "df[df['Description'].isnull()]"
   ]
  },
  {
   "cell_type": "code",
   "execution_count": 31,
   "id": "11fca639-f5bd-44bf-bf00-a849813c2b19",
   "metadata": {},
   "outputs": [],
   "source": [
    "import json"
   ]
  },
  {
   "cell_type": "code",
   "execution_count": 48,
   "id": "44170a7a-e36a-4755-87a4-74565f09ba5e",
   "metadata": {},
   "outputs": [
    {
     "name": "stdout",
     "output_type": "stream",
     "text": [
      "Data has been written to roles.json\n",
      "Data has been written to roles.csv\n"
     ]
    }
   ],
   "source": [
    "roles = {}\n",
    "current_role = None\n",
    "\n",
    "for tag in soup.find_all(['h5', 'blockquote', 'li', 'br']):\n",
    "    if tag.name == 'h5':\n",
    "        # current_role = tag.text\n",
    "        current_role = tag.text.replace('!NEW in FM22!', '').strip()\n",
    "        roles[current_role] = {'Definition': '', 'Roles': []}\n",
    "    elif tag.name == 'blockquote' and current_role:\n",
    "        roles[current_role]['Definition'] = tag.text.strip()\n",
    "    elif tag.name == 'li' and current_role:\n",
    "        if '–' in tag.text:\n",
    "            \n",
    "            duty, description = tag.text.split('–', 1)\n",
    "            roles[current_role]['Roles'].append({'Duty': duty.strip(), 'Description': description.strip()})\n",
    "        elif '-' in tag.text:\n",
    "            duty, description = tag.text.split('-', 1)\n",
    "            roles[current_role]['Roles'].append({'Duty': duty.strip(), 'Description': description.strip()})\n",
    "        else:\n",
    "            roles[current_role]['Roles'].append({'Duty': tag.text.strip(), 'Description': ''})\n",
    "    elif tag.name == 'br' and current_role and tag.next_sibling and '–' in tag.next_sibling:\n",
    "        duty, description = tag.next_sibling.split('–', 1)\n",
    "        roles[current_role]['Roles'].append({'Duty': duty.strip(), 'Description': description.strip()})\n",
    "\n",
    "# Write the extracted data to a CSV file\n",
    "csv_filename = 'roles.csv'\n",
    "with open(csv_filename, 'w', newline='', encoding='utf-8') as csvfile:\n",
    "    fieldnames = ['Role', 'Definition', 'Duty', 'Description']\n",
    "    writer = csv.DictWriter(csvfile, fieldnames=fieldnames)\n",
    "\n",
    "    writer.writeheader()\n",
    "    for role, details in roles.items():\n",
    "        if not details['Roles']:\n",
    "            writer.writerow({\n",
    "                'Role': role,\n",
    "                'Definition': details['Definition'],\n",
    "                'Duty': '',\n",
    "                'Description': ''\n",
    "            })\n",
    "        else:\n",
    "            for r in details['Roles']:\n",
    "                writer.writerow({\n",
    "                    'Role': role,\n",
    "                    'Definition': details['Definition'],\n",
    "                    'Duty': r['Duty'],\n",
    "                    'Description': r['Description']\n",
    "                })\n",
    "\n",
    "# Write the extracted data to a JSON file\n",
    "json_filename = 'roles.json'\n",
    "with open(json_filename, 'w', encoding='utf-8') as jsonfile:\n",
    "    json.dump(roles, jsonfile, ensure_ascii=False, indent=4)\n",
    "\n",
    "print(\"Data has been written to roles.json\")\n",
    "\n",
    "# Print the JSON data\n",
    "with open(json_filename, 'r', encoding='utf-8') as jsonfile:\n",
    "    data = json.load(jsonfile)\n",
    "    # print(json.dumps(data, ensure_ascii=False, indent=4))\n",
    "print(\"Data has been written to roles.csv\")\n",
    "\n"
   ]
  },
  {
   "cell_type": "code",
   "execution_count": 33,
   "id": "cd816823-6fff-43a1-9734-d16bd9146780",
   "metadata": {},
   "outputs": [],
   "source": [
    "items = list(data.items())"
   ]
  },
  {
   "cell_type": "code",
   "execution_count": 34,
   "id": "9aa3bce5-7e3a-4dab-8f61-5f3db1893b6c",
   "metadata": {
    "scrolled": true
   },
   "outputs": [],
   "source": [
    "items = items[:-4]"
   ]
  },
  {
   "cell_type": "code",
   "execution_count": 35,
   "id": "d4c85ada-07fd-417f-a2c2-9457e9babd8c",
   "metadata": {},
   "outputs": [],
   "source": [
    "updated_data = dict(items)"
   ]
  },
  {
   "cell_type": "code",
   "execution_count": 36,
   "id": "151da2bf-653f-42cc-88d5-1e0597a1ab6d",
   "metadata": {},
   "outputs": [
    {
     "data": {
      "text/plain": [
       "{'Definition': 'The Goalkeeper role is having your keeper’s main focus on making saves from shots and collecting crosses. Essentially your keeper is the last line of defense and is the “traditional” keeper. Despite being traditional, depending on their attributes they can still play key passes and have excellent distribution.',\n",
       " 'Roles': [{'Duty': 'Defend',\n",
       "   'Description': 'There is only one role and that is to stop goals going in. Simple and straightforward, defend the net.'}]}"
      ]
     },
     "execution_count": 36,
     "metadata": {},
     "output_type": "execute_result"
    }
   ],
   "source": [
    "updated_data['Goalkeeper']"
   ]
  },
  {
   "cell_type": "code",
   "execution_count": 37,
   "id": "fff987a0-7675-4376-b3c0-1fd3c80b5a9b",
   "metadata": {
    "scrolled": true
   },
   "outputs": [
    {
     "name": "stdout",
     "output_type": "stream",
     "text": [
      "<class 'pandas.core.frame.DataFrame'>\n",
      "Index: 89 entries, 0 to 88\n",
      "Data columns (total 4 columns):\n",
      " #   Column       Non-Null Count  Dtype \n",
      "---  ------       --------------  ----- \n",
      " 0   Role         89 non-null     object\n",
      " 1   Definition   89 non-null     object\n",
      " 2   Duty         89 non-null     object\n",
      " 3   Description  85 non-null     object\n",
      "dtypes: object(4)\n",
      "memory usage: 3.5+ KB\n"
     ]
    }
   ],
   "source": [
    "df.info()"
   ]
  },
  {
   "cell_type": "code",
   "execution_count": 38,
   "id": "436dc819-6a0c-4cb6-876b-e7f20197f6ac",
   "metadata": {},
   "outputs": [],
   "source": [
    "df = df[~df['Definition'].isnull()]"
   ]
  },
  {
   "cell_type": "code",
   "execution_count": 39,
   "id": "661d0f81-e34f-425e-87ca-559055e6e9c1",
   "metadata": {},
   "outputs": [
    {
     "name": "stdout",
     "output_type": "stream",
     "text": [
      "<class 'pandas.core.frame.DataFrame'>\n",
      "Index: 89 entries, 0 to 88\n",
      "Data columns (total 4 columns):\n",
      " #   Column       Non-Null Count  Dtype \n",
      "---  ------       --------------  ----- \n",
      " 0   Role         89 non-null     object\n",
      " 1   Definition   89 non-null     object\n",
      " 2   Duty         89 non-null     object\n",
      " 3   Description  85 non-null     object\n",
      "dtypes: object(4)\n",
      "memory usage: 3.5+ KB\n"
     ]
    }
   ],
   "source": [
    "df.info()"
   ]
  },
  {
   "cell_type": "code",
   "execution_count": 40,
   "id": "b7aca4cd-4e57-4e70-8ab9-8e8488a8fdfc",
   "metadata": {
    "scrolled": true
   },
   "outputs": [
    {
     "data": {
      "text/plain": [
       "Role\n",
       "Full Back                         4\n",
       "Wing Back                         4\n",
       "Wide Midfielder                   4\n",
       "Central Midfielder                4\n",
       "Inverted Wing Back                4\n",
       "No-Nonsense Centre Back           3\n",
       "Pressing Forward                  3\n",
       "Wide Centre-Back !NEW in FM22!    3\n",
       "Sweeper Keeper                    3\n",
       "Ball Playing Defender             3\n",
       "Central Defender                  3\n",
       "Deep Lying Playmaker              2\n",
       "Target Man                        2\n",
       "Complete Forward                  2\n",
       "Deep Lying Forward                2\n",
       "Ball Winning Midfielder           2\n",
       "Defensive Midfielder              2\n",
       "Libero                            2\n",
       "Mezzala                           2\n",
       "Segundo Volante                   2\n",
       "Winger                            2\n",
       "Complete Wing Back                2\n",
       "Defensive Winger                  2\n",
       "Attacking Midfielder              2\n",
       "Inverted Winger                   2\n",
       "Inside Forward                    2\n",
       "Wide Playmaker                    2\n",
       "Advanced Playmaker                2\n",
       "Wide Target Man                   2\n",
       "Half Back                         1\n",
       "Goalkeeper                        1\n",
       "Anchor Man                        1\n",
       "Regista                           1\n",
       "Roaming Playmaker                 1\n",
       "Box-to-Box Midfielder             1\n",
       "Carrilero                         1\n",
       "No-Nonsense Full Back             1\n",
       "Enganche                          1\n",
       "Raumdeuter                        1\n",
       "Trequartista                      1\n",
       "Advanced Forward                  1\n",
       "Shadow Striker                    1\n",
       "Poacher                           1\n",
       "False Nine                        1\n",
       "Name: count, dtype: int64"
      ]
     },
     "execution_count": 40,
     "metadata": {},
     "output_type": "execute_result"
    }
   ],
   "source": [
    "df['Role'].value_counts()"
   ]
  },
  {
   "cell_type": "code",
   "execution_count": 41,
   "id": "081cc37c-e32d-4a45-afeb-0c921b017747",
   "metadata": {
    "scrolled": true
   },
   "outputs": [
    {
     "data": {
      "text/html": [
       "<div>\n",
       "<style scoped>\n",
       "    .dataframe tbody tr th:only-of-type {\n",
       "        vertical-align: middle;\n",
       "    }\n",
       "\n",
       "    .dataframe tbody tr th {\n",
       "        vertical-align: top;\n",
       "    }\n",
       "\n",
       "    .dataframe thead th {\n",
       "        text-align: right;\n",
       "    }\n",
       "</style>\n",
       "<table border=\"1\" class=\"dataframe\">\n",
       "  <thead>\n",
       "    <tr style=\"text-align: right;\">\n",
       "      <th></th>\n",
       "      <th>Role</th>\n",
       "      <th>Definition</th>\n",
       "      <th>Duty</th>\n",
       "      <th>Description</th>\n",
       "    </tr>\n",
       "  </thead>\n",
       "  <tbody>\n",
       "    <tr>\n",
       "      <th>0</th>\n",
       "      <td>Goalkeeper</td>\n",
       "      <td>The Goalkeeper role is having your keeper’s ma...</td>\n",
       "      <td>Defend</td>\n",
       "      <td>There is only one role and that is to stop goa...</td>\n",
       "    </tr>\n",
       "    <tr>\n",
       "      <th>1</th>\n",
       "      <td>Sweeper Keeper</td>\n",
       "      <td>This Goalkeeping role is a mixture between bei...</td>\n",
       "      <td>Defend</td>\n",
       "      <td>The keeper will play a lot more cautiously but...</td>\n",
       "    </tr>\n",
       "    <tr>\n",
       "      <th>2</th>\n",
       "      <td>Sweeper Keeper</td>\n",
       "      <td>This Goalkeeping role is a mixture between bei...</td>\n",
       "      <td>Support</td>\n",
       "      <td>The keeper will stray just outside their penal...</td>\n",
       "    </tr>\n",
       "    <tr>\n",
       "      <th>3</th>\n",
       "      <td>Sweeper Keeper</td>\n",
       "      <td>This Goalkeeping role is a mixture between bei...</td>\n",
       "      <td>Attack</td>\n",
       "      <td>A very “brave” keeper who will travel far outs...</td>\n",
       "    </tr>\n",
       "    <tr>\n",
       "      <th>4</th>\n",
       "      <td>Wide Centre-Back !NEW in FM22!</td>\n",
       "      <td>The main job of this role is to stop the oppos...</td>\n",
       "      <td>Defend - The player is more like a traditional...</td>\n",
       "      <td>NaN</td>\n",
       "    </tr>\n",
       "  </tbody>\n",
       "</table>\n",
       "</div>"
      ],
      "text/plain": [
       "                             Role  \\\n",
       "0                      Goalkeeper   \n",
       "1                  Sweeper Keeper   \n",
       "2                  Sweeper Keeper   \n",
       "3                  Sweeper Keeper   \n",
       "4  Wide Centre-Back !NEW in FM22!   \n",
       "\n",
       "                                          Definition  \\\n",
       "0  The Goalkeeper role is having your keeper’s ma...   \n",
       "1  This Goalkeeping role is a mixture between bei...   \n",
       "2  This Goalkeeping role is a mixture between bei...   \n",
       "3  This Goalkeeping role is a mixture between bei...   \n",
       "4  The main job of this role is to stop the oppos...   \n",
       "\n",
       "                                                Duty  \\\n",
       "0                                             Defend   \n",
       "1                                             Defend   \n",
       "2                                            Support   \n",
       "3                                             Attack   \n",
       "4  Defend - The player is more like a traditional...   \n",
       "\n",
       "                                         Description  \n",
       "0  There is only one role and that is to stop goa...  \n",
       "1  The keeper will play a lot more cautiously but...  \n",
       "2  The keeper will stray just outside their penal...  \n",
       "3  A very “brave” keeper who will travel far outs...  \n",
       "4                                                NaN  "
      ]
     },
     "execution_count": 41,
     "metadata": {},
     "output_type": "execute_result"
    }
   ],
   "source": [
    "df.head()"
   ]
  },
  {
   "cell_type": "code",
   "execution_count": 42,
   "id": "c1b9f04d-e827-4680-8f32-85ef6626776a",
   "metadata": {},
   "outputs": [
    {
     "data": {
      "text/plain": [
       "['The Goalkeeper role is having your keeper’s main focus on making saves from shots and collecting crosses. Essentially your keeper is the last line of defense and is the “traditional” keeper. Despite being traditional, depending on their attributes they can still play key passes and have excellent distribution.']"
      ]
     },
     "execution_count": 42,
     "metadata": {},
     "output_type": "execute_result"
    }
   ],
   "source": [
    "list(df[df['Role'] == 'Goalkeeper']['Definition'])"
   ]
  },
  {
   "cell_type": "code",
   "execution_count": 43,
   "id": "d61f73e1-1f98-453b-8d77-abf1195aa278",
   "metadata": {},
   "outputs": [],
   "source": [
    "url = \"https://www.fourfourtwo.com/features/football-manager-2024-every-player-role-in-fm24-explained\"\n",
    "response = requests.get(url)\n",
    "html_content = response.content\n",
    "\n",
    "soup = BeautifulSoup(html_content, 'html.parser')\n",
    "\n"
   ]
  },
  {
   "cell_type": "code",
   "execution_count": 44,
   "id": "617faedb-2383-4c29-bb3a-792b2194f8a3",
   "metadata": {},
   "outputs": [],
   "source": [
    "roles = {}\n",
    "current_role = None\n",
    "\n",
    "# Extract roles and descriptions from the website\n",
    "for tag in soup.find_all(['h2', 'p', 'li']):\n",
    "    if tag.name == 'h2':\n",
    "        current_role = tag.text.replace('!NEW in FM22!', '').strip()\n",
    "        roles[current_role] = {'Definition': '', 'Roles': []}\n",
    "    elif tag.name == 'p' and current_role:\n",
    "        if 'Definition' not in roles[current_role] or not roles[current_role]['Definition']:\n",
    "            roles[current_role]['Definition'] = tag.text.strip()\n",
    "    elif tag.name == 'li' and current_role:\n",
    "        if '–' in tag.text:\n",
    "            duty, description = tag.text.split('–', 1)\n",
    "            roles[current_role]['Roles'].append({'Duty': duty.strip(), 'Description': description.strip()})\n",
    "        else:\n",
    "            roles[current_role]['Roles'].append({'Duty': tag.text.strip(), 'Description': ''})\n",
    "    "
   ]
  },
  {
   "cell_type": "code",
   "execution_count": 45,
   "id": "c84a8cb2-e222-4cda-a6f1-17c79ef5f5b1",
   "metadata": {},
   "outputs": [],
   "source": [
    "# Fetch the HTML content from the URL\n",
    "url = \"https://www.fourfourtwo.com/features/football-manager-2024-every-player-role-in-fm24-explained\"\n",
    "response = requests.get(url)\n",
    "html_content = response.content\n",
    "\n",
    "soup = BeautifulSoup(html_content, 'html.parser')\n",
    "\n",
    "roles = {}\n",
    "current_role = None\n",
    "\n",
    "# Extract roles and descriptions from the website\n",
    "for tag in soup.find_all(['strong', 'p']):\n",
    "    if tag.name == 'strong':\n",
    "        current_role = tag.text.replace('!NEW in FM22!', '').strip()\n",
    "        roles[current_role] = {'Definition': '', 'Roles': []}\n",
    "    elif tag.name == 'p' and current_role:\n",
    "        if 'Definition' not in roles[current_role] or not roles[current_role]['Definition']:\n",
    "            roles[current_role]['Definition'] = tag.text.strip()"
   ]
  },
  {
   "cell_type": "code",
   "execution_count": 46,
   "id": "c91c21d0-b78f-4414-ad6b-47a004241d79",
   "metadata": {},
   "outputs": [
    {
     "data": {
      "text/plain": [
       "{'Definition': \"If there's a player role in Football Manager that does what it says on the tin, it's this: the 'traditional', stop-the-ball-from-going-into-the-net goalkeeper who doesn't tend to stray incredibly far from their line (although they can still be good with their feet).\",\n",
       " 'Roles': []}"
      ]
     },
     "execution_count": 46,
     "metadata": {},
     "output_type": "execute_result"
    }
   ],
   "source": [
    "roles['Goalkeeper']"
   ]
  },
  {
   "cell_type": "code",
   "execution_count": null,
   "id": "93d77bdf-0941-491c-9b1f-dd0496b2aed6",
   "metadata": {},
   "outputs": [],
   "source": []
  }
 ],
 "metadata": {
  "kernelspec": {
   "display_name": "Python 3 (ipykernel)",
   "language": "python",
   "name": "python3"
  },
  "language_info": {
   "codemirror_mode": {
    "name": "ipython",
    "version": 3
   },
   "file_extension": ".py",
   "mimetype": "text/x-python",
   "name": "python",
   "nbconvert_exporter": "python",
   "pygments_lexer": "ipython3",
   "version": "3.10.13"
  }
 },
 "nbformat": 4,
 "nbformat_minor": 5
}
